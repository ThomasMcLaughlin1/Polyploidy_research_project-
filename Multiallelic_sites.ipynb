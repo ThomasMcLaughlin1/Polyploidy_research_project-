{
 "cells": [
  {
   "cell_type": "markdown",
   "id": "38b320c8-8f40-4ab7-94a9-750bda56634a",
   "metadata": {},
   "source": [
    "# Apply High-Frequency SNP Variants to Reference Genome (VCF → FASTA)\n",
    "\n",
    "This notebook:\n",
    "- Loads a multi-allelic VCF file with allele frequencies\n",
    "- Loads a reference genome in FASTA format\n",
    "- Applies the most common allele (based on frequency) at each SNP position\n",
    "- Writes a new FASTA with updated sequences\n",
    "- Logs which variants were applied\n",
    "\n",
    "Tools Used: scikit-allel, Biopython\n"
   ]
  },
  {
   "cell_type": "code",
   "execution_count": null,
   "id": "45d0103f-cd4e-442a-83a6-cff19ff16a0f",
   "metadata": {},
   "outputs": [],
   "source": [
    "import allel\n",
    "import numpy as np\n",
    "from Bio import SeqIO\n",
    "from Bio.Seq import Seq\n",
    "from Bio.SeqRecord import SeqRecord"
   ]
  },
  {
   "cell_type": "markdown",
   "id": "322ef86f-25db-4493-9aae-d8f93513cd0b",
   "metadata": {},
   "source": [
    "##Load the VCF file\n",
    "\n",
    "VCF = Variant Call Format  \n",
    "read specific fields: chromosome, position, REF allele, ALT alleles, and allele frequency (AF)."
   ]
  },
  {
   "cell_type": "code",
   "execution_count": null,
   "id": "44768662-5297-46ee-a120-fbd2cf8ee0d6",
   "metadata": {},
   "outputs": [],
   "source": [
    "vcf_path = \"path/to/g31016_tetraploids_multiallelic.vcf\"\n",
    "\n",
    "callset = allel.read_vcf(\n",
    "    vcf_path,\n",
    "    fields=['variants/CHROM', 'variants/POS', 'variants/REF', 'variants/ALT', 'variants/AF'],\n",
    "    types={'variants/AF': 'f8'}\n",
    ")\n",
    "\n",
    "positions = callset['variants/POS']\n",
    "ref_alleles = callset['variants/REF']\n",
    "alt_alleles = callset['variants/ALT']\n",
    "chroms = callset['variants/CHROM']\n",
    "allele_freqs = callset['variants/AF']\n",
    "variant_count = len(positions)\n",
    "\n",
    "print(\"Loaded VCF with {} variants.\".format(variant_count))\n"
   ]
  },
  {
   "cell_type": "markdown",
   "id": "f72d21b1-ad79-4f69-94f8-cb0faebb71b1",
   "metadata": {},
   "source": [
    "## Load the reference FASTA file\n",
    "\n",
    "We store sequences as lists of characters so they can be modified in place.\n"
   ]
  },
  {
   "cell_type": "code",
   "execution_count": null,
   "id": "62fb0cec-9a46-4c30-a165-65b34ea07f09",
   "metadata": {},
   "outputs": [],
   "source": [
    "fasta_path = \"path/to/g31016_tetraploids_biallelic.fasta\"\n",
    "fasta_dict = {}\n",
    "\n",
    "with open(fasta_path, \"r\") as fasta_file:\n",
    "    for rec in SeqIO.parse(fasta_file, \"fasta\"):\n",
    "        fasta_dict[rec.id] = list(str(rec.seq))\n",
    "\n",
    "print(\"Loaded {} contigs from FASTA.\".format(len(fasta_dict)))\n"
   ]
  },
  {
   "cell_type": "markdown",
   "id": "5ebc225e-961b-4bc6-b7ae-74e55d2543bf",
   "metadata": {},
   "source": [
    "##Apply Variants Based on Allele Frequency\n",
    "\n",
    "We'll only apply simple SNPs where:\n",
    "- Top allele frequency > 5%\n",
    "- It is at least 30% more common than the second allele\n",
    "- It's a 1-to-1 SNP (not an indel or complex variant)\n"
   ]
  },
  {
   "cell_type": "code",
   "execution_count": null,
   "id": "c71593ff-7729-4895-9663-5f86f5451d1d",
   "metadata": {},
   "outputs": [],
   "source": [
    "modification_log = []\n",
    "total_mods = 0\n",
    "\n",
    "for idx in range(variant_count):\n",
    "    pos = positions[idx]\n",
    "    ref = ref_alleles[idx]\n",
    "    raw_alt = alt_alleles[idx]\n",
    "    chrom = chroms[idx]\n",
    "    af = allele_freqs[idx]\n",
    "\n",
    "    # Clean ALT alleles\n",
    "    if isinstance(raw_alt, str):\n",
    "        alt = raw_alt.strip().split(',') # coverts a string of nucleotides (eg \"T,C,A\") to  list of strings [\"T\", \"C\", \"A\"]\n",
    "    else:\n",
    "        alt = [str(a).strip() for a in raw_alt] # converts anything else to the format above \n",
    "\n",
    "    # Remove empty alleles\n",
    "    alt = [a for a in alt if a] # get rid of empty strings \n",
    "\n",
    "    if not alt:\n",
    "        continue  # If theres nothing left skip to the next variant \n",
    "    \n",
    "    # Clean AF\n",
    "    af_values = [af] if isinstance(af, float) else list(af) # is the allele frequency value a float, put it in a list. \n",
    "    allele_data = sorted(zip(alt, af_values), key=lambda x: x[1], reverse=True) #combine each ALT allele with is AF and sort them in reverse order (lambda x: x[1])\n",
    "\n",
    "    top_alt, top_af = allele_data[0] #get the most frequent alternate allele and its frquency \n",
    "    second_af = allele_data[1][1] if len(allele_data) > 1 else 0.0 #If theres a second allele freq elese assign in 0.0\n",
    "\n",
    "    # Filters\n",
    "    if top_af <= 0.05 or (top_af - second_af) < 0.3: # AF must be > 0.05 and differnce between the two AF > 0.03\n",
    "        continue\n",
    "    if len(top_alt) != 1 or len(ref) != 1: # If the len of alt or ref alle not equal to 1, skip\n",
    "        continue\n",
    "\n",
    "    # Match contig\n",
    "    contig_id = None\n",
    "    offset = None\n",
    "    for fid in fasta_dict:\n",
    "        if fid.startswith(chrom): #Does the contig start with the same chromosome at this variant \n",
    "            try:\n",
    "                region = fid.split(\":\")[1]\n",
    "                start, end = map(int, region.split(\"-\"))\n",
    "                if start <= pos <= end:\n",
    "                    contig_id = fid #does it match \n",
    "                    offset = pos - start\n",
    "                    break\n",
    "            except:\n",
    "                continue\n",
    "\n",
    "    # Apply change\n",
    "    if contig_id and offset is not None and 0 <= offset < len(fasta_dict[contig_id]):\n",
    "        fasta_dict[contig_id][offset] = top_alt\n",
    "        modification_log.append((contig_id, pos, ref, top_alt))\n",
    "        total_mods += 1\n"
   ]
  },
  {
   "cell_type": "markdown",
   "id": "e35925cd-dbb0-4671-a48c-9cdc0e181f7c",
   "metadata": {},
   "source": [
    "## Save Consensus FASTA and Log of Modifications\n",
    "\n",
    "The output is:\n",
    "- A new FASTA file with all accepted SNPs applied\n",
    "- A text file listing all changes\n"
   ]
  },
  {
   "cell_type": "code",
   "execution_count": null,
   "id": "08fe67d5-0036-4851-9ba9-ad19e93a300a",
   "metadata": {},
   "outputs": [],
   "source": [
    "# Save new FASTA\n",
    "output_fasta = \"g31016_tetraploids_consensus_AFbased.fasta\"\n",
    "with open(output_fasta, \"w\") as out_fasta:\n",
    "    for fid, chars in fasta_dict.items():\n",
    "        record = SeqRecord(Seq(\"\".join(chars)), id=fid, description=\"\")\n",
    "        SeqIO.write(record, out_fasta, \"fasta\")\n",
    "\n",
    "# Save modification log\n",
    "with open(\"modification_log_AFbased.txt\", \"w\") as log_file:\n",
    "    for contig, pos, ref, alt in modification_log:\n",
    "        log_file.write(\"{}\\t{}\\t{} -> {}\\n\".format(contig, pos, ref, alt))\n",
    "\n",
    "print(\"Done. {} variants applied.\".format(total_mods))\n"
   ]
  }
 ],
 "metadata": {
  "kernelspec": {
   "display_name": "Python 3 (ipykernel)",
   "language": "python",
   "name": "python3"
  },
  "language_info": {
   "codemirror_mode": {
    "name": "ipython",
    "version": 3
   },
   "file_extension": ".py",
   "mimetype": "text/x-python",
   "name": "python",
   "nbconvert_exporter": "python",
   "pygments_lexer": "ipython3",
   "version": "3.12.5"
  }
 },
 "nbformat": 4,
 "nbformat_minor": 5
}
